{
 "cells": [
  {
   "cell_type": "code",
   "execution_count": 115,
   "id": "1c4d4a01",
   "metadata": {},
   "outputs": [],
   "source": [
    "import tensorflow as tf\n"
   ]
  },
  {
   "cell_type": "code",
   "execution_count": 116,
   "id": "9e7cdf19",
   "metadata": {},
   "outputs": [
    {
     "data": {
      "text/plain": [
       "[<tf.Tensor: shape=(2,), dtype=int32, numpy=array([ 1, -2], dtype=int32)>]"
      ]
     },
     "execution_count": 116,
     "metadata": {},
     "output_type": "execute_result"
    }
   ],
   "source": [
    "beta = [tf.constant([1, -2])]\n",
    "beta"
   ]
  },
  {
   "cell_type": "code",
   "execution_count": 159,
   "id": "703a93b8",
   "metadata": {},
   "outputs": [],
   "source": [
    "contribution_normalised = [tf.random.uniform(shape=[2, 3, 3,2])]\n"
   ]
  },
  {
   "cell_type": "code",
   "execution_count": 160,
   "id": "d1891a5c",
   "metadata": {},
   "outputs": [],
   "source": [
    "contribution_normalised_minus_beta = tf.subtract(contribution_normalised, beta)[0]\n"
   ]
  },
  {
   "cell_type": "code",
   "execution_count": 161,
   "id": "de742b8f",
   "metadata": {},
   "outputs": [],
   "source": [
    "act_normalised = [contribution_normalised[0][1:]]\n"
   ]
  },
  {
   "cell_type": "code",
   "execution_count": 162,
   "id": "d30de08c",
   "metadata": {},
   "outputs": [],
   "source": [
    "act_normalised_minus_beta = tf.math.subtract(act_normalised, beta)[0]\n"
   ]
  },
  {
   "cell_type": "code",
   "execution_count": 164,
   "id": "3bd8152f",
   "metadata": {},
   "outputs": [],
   "source": [
    "hey = tf.math.divide_no_nan(contribution_normalised_minus_beta, act_normalised_minus_beta)"
   ]
  },
  {
   "cell_type": "code",
   "execution_count": 165,
   "id": "7ab1d99a",
   "metadata": {},
   "outputs": [],
   "source": [
    "weighted_output = tf.math.multiply(ratio_con_act, beta)[0]"
   ]
  },
  {
   "cell_type": "code",
   "execution_count": null,
   "id": "9d6cfcfb",
   "metadata": {},
   "outputs": [],
   "source": []
  },
  {
   "cell_type": "code",
   "execution_count": 44,
   "id": "ee3b2a04",
   "metadata": {},
   "outputs": [],
   "source": [
    "# weighted_output"
   ]
  },
  {
   "cell_type": "code",
   "execution_count": 176,
   "id": "474d4ad2",
   "metadata": {},
   "outputs": [
    {
     "data": {
      "text/plain": [
       "[<tf.Tensor: shape=(2, 3, 3, 2), dtype=float32, numpy=\n",
       " array([[[[ 0.15917087,  0.7743192 ],\n",
       "          [ 0.53022945,  0.21084118],\n",
       "          [ 0.72047436,  0.7172216 ]],\n",
       " \n",
       "         [[-0.25011623,  0.46053696],\n",
       "          [-0.22655487,  0.57217026],\n",
       "          [ 0.3001511 ,  0.4208355 ]],\n",
       " \n",
       "         [[-0.06744476,  0.71698236],\n",
       "          [ 0.83643806,  0.1929729 ],\n",
       "          [-0.22636342,  0.6400838 ]]],\n",
       " \n",
       " \n",
       "        [[[ 0.30637014,  0.2018466 ],\n",
       "          [ 0.40132093,  0.31134534],\n",
       "          [ 0.42715383,  0.4345088 ]],\n",
       " \n",
       "         [[ 0.5940037 ,  0.560879  ],\n",
       "          [ 0.61848843,  0.09741569],\n",
       "          [ 0.3887763 ,  0.6035652 ]],\n",
       " \n",
       "         [[ 0.95291865,  0.23524499],\n",
       "          [ 0.8874819 ,  0.74677324],\n",
       "          [ 0.59222615,  0.14091778]]]], dtype=float32)>]"
      ]
     },
     "execution_count": 176,
     "metadata": {},
     "output_type": "execute_result"
    }
   ],
   "source": [
    "contribution = [tf.math.add(contribution_normalised_minus_beta, weighted_output)]\n",
    "contribution"
   ]
  }
 ],
 "metadata": {
  "kernelspec": {
   "display_name": "Python 3 (ipykernel)",
   "language": "python",
   "name": "python3"
  },
  "language_info": {
   "codemirror_mode": {
    "name": "ipython",
    "version": 3
   },
   "file_extension": ".py",
   "mimetype": "text/x-python",
   "name": "python",
   "nbconvert_exporter": "python",
   "pygments_lexer": "ipython3",
   "version": "3.9.6"
  }
 },
 "nbformat": 4,
 "nbformat_minor": 5
}
